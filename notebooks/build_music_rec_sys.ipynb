{
  "cells": [
    {
      "cell_type": "code",
      "execution_count": 1,
      "metadata": {
        "colab": {
          "base_uri": "https://localhost:8080/"
        },
        "id": "M5sDa179WEfD",
        "outputId": "701d2c13-cd22-4d00-f81b-fd0f488bed92"
      },
      "outputs": [
        {
          "name": "stderr",
          "output_type": "stream",
          "text": [
            "[nltk_data] Downloading package wordnet to /root/nltk_data...\n"
          ]
        },
        {
          "data": {
            "text/plain": [
              "True"
            ]
          },
          "execution_count": 1,
          "metadata": {},
          "output_type": "execute_result"
        }
      ],
      "source": [
        "from sklearn.feature_extraction.text import TfidfVectorizer\n",
        "from textblob import TextBlob\n",
        "import pandas as pd\n",
        "from nltk.corpus import stopwords\n",
        "from nltk.stem import WordNetLemmatizer\n",
        "import nltk\n",
        "from sklearn.preprocessing import MinMaxScaler\n",
        "from sklearn.metrics.pairwise import cosine_similarity\n",
        "import os\n",
        "import json\n",
        "from zipfile import ZipFile\n",
        "import zipfile\n",
        "import fnmatch\n",
        "import pandas as pd\n",
        "import tqdm\n",
        "import time\n",
        "import re\n",
        "import numpy as np\n",
        "nltk.download('wordnet')"
      ]
    },
    {
      "cell_type": "code",
      "execution_count": 2,
      "metadata": {
        "colab": {
          "base_uri": "https://localhost:8080/"
        },
        "id": "t7944uqVf0Zb",
        "outputId": "7d2e81dc-704f-4a6c-ba6e-72b6aaef7c5a"
      },
      "outputs": [
        {
          "name": "stdout",
          "output_type": "stream",
          "text": [
            "Mounted at /content/gdrive\n"
          ]
        }
      ],
      "source": [
        "from google.colab import drive\n",
        "drive.mount('/content/gdrive')"
      ]
    },
    {
      "cell_type": "code",
      "execution_count": 3,
      "metadata": {
        "id": "FKlUViK7Y4SB"
      },
      "outputs": [],
      "source": [
        "df = pd.read_csv('/content/songs_features')"
      ]
    },
    {
      "cell_type": "code",
      "execution_count": 4,
      "metadata": {
        "id": "k2ZaWxFkY5_S"
      },
      "outputs": [],
      "source": [
        "# Фичи, полученные при помощи emovecAPI\n",
        "emovec = pd.read_csv('/content/emotional_vectors.csv')"
      ]
    },
    {
      "cell_type": "markdown",
      "metadata": {
        "id": "HEclkAy4cH4K"
      },
      "source": [
        "### Preprocessing\n",
        "\n",
        "обрабатываю основной датасет с признаками"
      ]
    },
    {
      "cell_type": "code",
      "execution_count": 5,
      "metadata": {
        "id": "yMXwIjW8cJgu"
      },
      "outputs": [],
      "source": [
        "def genre_preprocess(df):\n",
        "    df['genres'] = df['genres'].apply(lambda x: x.split(\", \"))\n",
        "    df['genres'] = df['genres'].apply(lambda x: [elem.strip('_') for elem in x])\n",
        "    tfidf = TfidfVectorizer()\n",
        "    tfidf_matrix =  tfidf.fit_transform(df['genres'].apply(lambda x: \" \".join(x)))\n",
        "    genre_df = pd.DataFrame(tfidf_matrix.toarray())\n",
        "    genre_df.columns = [i for i in tfidf.get_feature_names_out()]\n",
        "    genre_df.drop(columns='unknown')\n",
        "    genre_df.reset_index(drop = True, inplace = True)\n",
        "    genre_df.drop(columns=['_hip_hop'], inplace=True)\n",
        "    return genre_df\n",
        "\n",
        "genre_df = genre_preprocess(df)"
      ]
    },
    {
      "cell_type": "code",
      "execution_count": 6,
      "metadata": {
        "id": "b1lJlFD9dZ9q"
      },
      "outputs": [],
      "source": [
        "def get_sentiment_analisys(df):\n",
        "  df['subjectivity'] = df['track_name'].apply(lambda x: TextBlob(x).sentiment.subjectivity)\n",
        "  df['polarity'] = df['track_name'].apply(lambda x: TextBlob(x).sentiment.polarity)\n",
        "  return df \n",
        "\n",
        "df = get_sentiment_analisys(df)"
      ]
    },
    {
      "cell_type": "code",
      "execution_count": 7,
      "metadata": {
        "id": "yJeRrH-3dxiK"
      },
      "outputs": [],
      "source": [
        "df.drop(columns=['genres'], inplace=True)"
      ]
    },
    {
      "cell_type": "code",
      "execution_count": 8,
      "metadata": {
        "id": "sD6GoFF-epgo"
      },
      "outputs": [],
      "source": [
        "def normalize(df):\n",
        "  float_df = df[['acousticness', 'danceability', 'year', \"artist_popularity\", \"song_popularity\",\n",
        "       'energy', 'instrumentalness', 'liveness', 'loudness', 'speechiness',\n",
        "       'tempo', 'valence', 'key', 'mode', 'subjectivity', 'polarity']]\n",
        "  scaler = MinMaxScaler()\n",
        "  scaled_float_df = pd.DataFrame(scaler.fit_transform(float_df), columns = float_df.columns) * 0.5\n",
        "  return scaled_float_df\n",
        "\n",
        "scaled_float_df = normalize(df)"
      ]
    },
    {
      "cell_type": "code",
      "execution_count": 9,
      "metadata": {
        "id": "loqleTB0eNMv"
      },
      "outputs": [],
      "source": [
        "features_df = pd.concat([df[['id']], genre_df, scaled_float_df], axis = 1) "
      ]
    },
    {
      "cell_type": "code",
      "execution_count": 10,
      "metadata": {
        "colab": {
          "base_uri": "https://localhost:8080/",
          "height": 237
        },
        "id": "P7IneYnyfoMs",
        "outputId": "bd5ec104-9f91-42b9-e926-df324fb1beb2"
      },
      "outputs": [
        {
          "data": {
            "text/html": [
              "\n",
              "  <div id=\"df-27be7527-dd8f-4250-a4e5-40bfea29995b\">\n",
              "    <div class=\"colab-df-container\">\n",
              "      <div>\n",
              "<style scoped>\n",
              "    .dataframe tbody tr th:only-of-type {\n",
              "        vertical-align: middle;\n",
              "    }\n",
              "\n",
              "    .dataframe tbody tr th {\n",
              "        vertical-align: top;\n",
              "    }\n",
              "\n",
              "    .dataframe thead th {\n",
              "        text-align: right;\n",
              "    }\n",
              "</style>\n",
              "<table border=\"1\" class=\"dataframe\">\n",
              "  <thead>\n",
              "    <tr style=\"text-align: right;\">\n",
              "      <th></th>\n",
              "      <th>id</th>\n",
              "      <th>432hz</th>\n",
              "      <th>_indie</th>\n",
              "      <th>a_cappella</th>\n",
              "      <th>abstract</th>\n",
              "      <th>acoustic_blues</th>\n",
              "      <th>acoustic_pop</th>\n",
              "      <th>adult_standards</th>\n",
              "      <th>afro_psych</th>\n",
              "      <th>afrobeat</th>\n",
              "      <th>...</th>\n",
              "      <th>instrumentalness</th>\n",
              "      <th>liveness</th>\n",
              "      <th>loudness</th>\n",
              "      <th>speechiness</th>\n",
              "      <th>tempo</th>\n",
              "      <th>valence</th>\n",
              "      <th>key</th>\n",
              "      <th>mode</th>\n",
              "      <th>subjectivity</th>\n",
              "      <th>polarity</th>\n",
              "    </tr>\n",
              "  </thead>\n",
              "  <tbody>\n",
              "    <tr>\n",
              "      <th>0</th>\n",
              "      <td>spotify:track:5IbCV9Icebx8rR6wAp5hhP</td>\n",
              "      <td>0.0</td>\n",
              "      <td>0.0</td>\n",
              "      <td>0.0</td>\n",
              "      <td>0.0</td>\n",
              "      <td>0.0</td>\n",
              "      <td>0.0</td>\n",
              "      <td>0.0</td>\n",
              "      <td>0.0</td>\n",
              "      <td>0.0</td>\n",
              "      <td>...</td>\n",
              "      <td>0.000000</td>\n",
              "      <td>0.069744</td>\n",
              "      <td>0.363330</td>\n",
              "      <td>0.042089</td>\n",
              "      <td>0.190915</td>\n",
              "      <td>0.327919</td>\n",
              "      <td>0.090909</td>\n",
              "      <td>0.5</td>\n",
              "      <td>0.00</td>\n",
              "      <td>0.25</td>\n",
              "    </tr>\n",
              "    <tr>\n",
              "      <th>1</th>\n",
              "      <td>spotify:track:6rKVAvjHcxAzZ1BHtwh5yC</td>\n",
              "      <td>0.0</td>\n",
              "      <td>0.0</td>\n",
              "      <td>0.0</td>\n",
              "      <td>0.0</td>\n",
              "      <td>0.0</td>\n",
              "      <td>0.0</td>\n",
              "      <td>0.0</td>\n",
              "      <td>0.0</td>\n",
              "      <td>0.0</td>\n",
              "      <td>...</td>\n",
              "      <td>0.000000</td>\n",
              "      <td>0.086667</td>\n",
              "      <td>0.348567</td>\n",
              "      <td>0.027874</td>\n",
              "      <td>0.341100</td>\n",
              "      <td>0.458883</td>\n",
              "      <td>0.000000</td>\n",
              "      <td>0.5</td>\n",
              "      <td>0.00</td>\n",
              "      <td>0.25</td>\n",
              "    </tr>\n",
              "    <tr>\n",
              "      <th>2</th>\n",
              "      <td>spotify:track:6Jlkb1Wh08RYHstWScsTvg</td>\n",
              "      <td>0.0</td>\n",
              "      <td>0.0</td>\n",
              "      <td>0.0</td>\n",
              "      <td>0.0</td>\n",
              "      <td>0.0</td>\n",
              "      <td>0.0</td>\n",
              "      <td>0.0</td>\n",
              "      <td>0.0</td>\n",
              "      <td>0.0</td>\n",
              "      <td>...</td>\n",
              "      <td>0.000005</td>\n",
              "      <td>0.052308</td>\n",
              "      <td>0.311609</td>\n",
              "      <td>0.023980</td>\n",
              "      <td>0.188055</td>\n",
              "      <td>0.160406</td>\n",
              "      <td>0.272727</td>\n",
              "      <td>0.5</td>\n",
              "      <td>0.05</td>\n",
              "      <td>0.25</td>\n",
              "    </tr>\n",
              "  </tbody>\n",
              "</table>\n",
              "<p>3 rows × 863 columns</p>\n",
              "</div>\n",
              "      <button class=\"colab-df-convert\" onclick=\"convertToInteractive('df-27be7527-dd8f-4250-a4e5-40bfea29995b')\"\n",
              "              title=\"Convert this dataframe to an interactive table.\"\n",
              "              style=\"display:none;\">\n",
              "        \n",
              "  <svg xmlns=\"http://www.w3.org/2000/svg\" height=\"24px\"viewBox=\"0 0 24 24\"\n",
              "       width=\"24px\">\n",
              "    <path d=\"M0 0h24v24H0V0z\" fill=\"none\"/>\n",
              "    <path d=\"M18.56 5.44l.94 2.06.94-2.06 2.06-.94-2.06-.94-.94-2.06-.94 2.06-2.06.94zm-11 1L8.5 8.5l.94-2.06 2.06-.94-2.06-.94L8.5 2.5l-.94 2.06-2.06.94zm10 10l.94 2.06.94-2.06 2.06-.94-2.06-.94-.94-2.06-.94 2.06-2.06.94z\"/><path d=\"M17.41 7.96l-1.37-1.37c-.4-.4-.92-.59-1.43-.59-.52 0-1.04.2-1.43.59L10.3 9.45l-7.72 7.72c-.78.78-.78 2.05 0 2.83L4 21.41c.39.39.9.59 1.41.59.51 0 1.02-.2 1.41-.59l7.78-7.78 2.81-2.81c.8-.78.8-2.07 0-2.86zM5.41 20L4 18.59l7.72-7.72 1.47 1.35L5.41 20z\"/>\n",
              "  </svg>\n",
              "      </button>\n",
              "      \n",
              "  <style>\n",
              "    .colab-df-container {\n",
              "      display:flex;\n",
              "      flex-wrap:wrap;\n",
              "      gap: 12px;\n",
              "    }\n",
              "\n",
              "    .colab-df-convert {\n",
              "      background-color: #E8F0FE;\n",
              "      border: none;\n",
              "      border-radius: 50%;\n",
              "      cursor: pointer;\n",
              "      display: none;\n",
              "      fill: #1967D2;\n",
              "      height: 32px;\n",
              "      padding: 0 0 0 0;\n",
              "      width: 32px;\n",
              "    }\n",
              "\n",
              "    .colab-df-convert:hover {\n",
              "      background-color: #E2EBFA;\n",
              "      box-shadow: 0px 1px 2px rgba(60, 64, 67, 0.3), 0px 1px 3px 1px rgba(60, 64, 67, 0.15);\n",
              "      fill: #174EA6;\n",
              "    }\n",
              "\n",
              "    [theme=dark] .colab-df-convert {\n",
              "      background-color: #3B4455;\n",
              "      fill: #D2E3FC;\n",
              "    }\n",
              "\n",
              "    [theme=dark] .colab-df-convert:hover {\n",
              "      background-color: #434B5C;\n",
              "      box-shadow: 0px 1px 3px 1px rgba(0, 0, 0, 0.15);\n",
              "      filter: drop-shadow(0px 1px 2px rgba(0, 0, 0, 0.3));\n",
              "      fill: #FFFFFF;\n",
              "    }\n",
              "  </style>\n",
              "\n",
              "      <script>\n",
              "        const buttonEl =\n",
              "          document.querySelector('#df-27be7527-dd8f-4250-a4e5-40bfea29995b button.colab-df-convert');\n",
              "        buttonEl.style.display =\n",
              "          google.colab.kernel.accessAllowed ? 'block' : 'none';\n",
              "\n",
              "        async function convertToInteractive(key) {\n",
              "          const element = document.querySelector('#df-27be7527-dd8f-4250-a4e5-40bfea29995b');\n",
              "          const dataTable =\n",
              "            await google.colab.kernel.invokeFunction('convertToInteractive',\n",
              "                                                     [key], {});\n",
              "          if (!dataTable) return;\n",
              "\n",
              "          const docLinkHtml = 'Like what you see? Visit the ' +\n",
              "            '<a target=\"_blank\" href=https://colab.research.google.com/notebooks/data_table.ipynb>data table notebook</a>'\n",
              "            + ' to learn more about interactive tables.';\n",
              "          element.innerHTML = '';\n",
              "          dataTable['output_type'] = 'display_data';\n",
              "          await google.colab.output.renderOutput(dataTable, element);\n",
              "          const docLink = document.createElement('div');\n",
              "          docLink.innerHTML = docLinkHtml;\n",
              "          element.appendChild(docLink);\n",
              "        }\n",
              "      </script>\n",
              "    </div>\n",
              "  </div>\n",
              "  "
            ],
            "text/plain": [
              "                                     id  432hz  _indie  a_cappella  abstract  \\\n",
              "0  spotify:track:5IbCV9Icebx8rR6wAp5hhP    0.0     0.0         0.0       0.0   \n",
              "1  spotify:track:6rKVAvjHcxAzZ1BHtwh5yC    0.0     0.0         0.0       0.0   \n",
              "2  spotify:track:6Jlkb1Wh08RYHstWScsTvg    0.0     0.0         0.0       0.0   \n",
              "\n",
              "   acoustic_blues  acoustic_pop  adult_standards  afro_psych  afrobeat  ...  \\\n",
              "0             0.0           0.0              0.0         0.0       0.0  ...   \n",
              "1             0.0           0.0              0.0         0.0       0.0  ...   \n",
              "2             0.0           0.0              0.0         0.0       0.0  ...   \n",
              "\n",
              "   instrumentalness  liveness  loudness  speechiness     tempo   valence  \\\n",
              "0          0.000000  0.069744  0.363330     0.042089  0.190915  0.327919   \n",
              "1          0.000000  0.086667  0.348567     0.027874  0.341100  0.458883   \n",
              "2          0.000005  0.052308  0.311609     0.023980  0.188055  0.160406   \n",
              "\n",
              "        key  mode  subjectivity  polarity  \n",
              "0  0.090909   0.5          0.00      0.25  \n",
              "1  0.000000   0.5          0.00      0.25  \n",
              "2  0.272727   0.5          0.05      0.25  \n",
              "\n",
              "[3 rows x 863 columns]"
            ]
          },
          "execution_count": 10,
          "metadata": {},
          "output_type": "execute_result"
        }
      ],
      "source": [
        "features_df.head(3)"
      ]
    },
    {
      "cell_type": "markdown",
      "metadata": {
        "id": "RI6v-UJjf8ia"
      },
      "source": [
        "### Отбор 50 плейлистов из миллиона (просто беру первые 50) затем оставляю только те, где треков >= 15, остается 40 плейлистов"
      ]
    },
    {
      "cell_type": "code",
      "execution_count": 11,
      "metadata": {
        "colab": {
          "base_uri": "https://localhost:8080/"
        },
        "id": "TJjFroiIfpKT",
        "outputId": "b9fb45b7-fdc7-4434-b3c2-26b85a917473"
      },
      "outputs": [
        {
          "name": "stdout",
          "output_type": "stream",
          "text": [
            "/content/spotify_million_playlist_dataset/data/mpd.slice.0-999.json\n",
            "/content/spotify_million_playlist_dataset/data/mpd.slice.1000-1999.json\n"
          ]
        }
      ],
      "source": [
        "with ZipFile('/content/gdrive/MyDrive/spotify_million_playlist_dataset.zip') as zipfiles:\n",
        "  file_list = zipfiles.namelist()\n",
        "  json_files = sorted(fnmatch.filter(file_list, \"spotify_million_playlist_dataset/data/*.json\"), key=lambda x: x[x.index('mpd.slice.'):x.index('.json')])[:2]\n",
        "  for file in json_files:\n",
        "    json_file = zipfiles.extract(file)\n",
        "    print(json_file)"
      ]
    },
    {
      "cell_type": "code",
      "execution_count": 12,
      "metadata": {
        "id": "NZ-gMKiLgAJj"
      },
      "outputs": [],
      "source": [
        "songs = list(emovec['song_name'].values)\n",
        "playlists = {}\n",
        "f = open('/content/spotify_million_playlist_dataset/data/mpd.slice.1000-1999.json')\n",
        "js = f.read()\n",
        "f.close()\n",
        "current_slice = json.loads(js)\n",
        "for playlist in current_slice['playlists'][:50]:\n",
        "  tracks = []\n",
        "  for track in playlist['tracks']:\n",
        "    if track['track_uri'].split(':')[2] in songs:\n",
        "      tracks.append(track['track_uri'].split(':')[2])\n",
        "  if len(tracks) >= 15:\n",
        "    playlists[playlist['name']] = tracks"
      ]
    },
    {
      "cell_type": "markdown",
      "metadata": {
        "id": "oErJJ7h1h9l_"
      },
      "source": [
        "### Рекомендательная ситема"
      ]
    },
    {
      "cell_type": "code",
      "execution_count": 15,
      "metadata": {
        "id": "Pn2JLhuch7Qx"
      },
      "outputs": [],
      "source": [
        "keys = list(playlists.keys())"
      ]
    },
    {
      "cell_type": "code",
      "execution_count": 16,
      "metadata": {
        "id": "j9PG_auMjyuK"
      },
      "outputs": [],
      "source": [
        "def get_result(df):\n",
        "  array = []\n",
        "  for key in keys:\n",
        "    playlist = playlists[key][:5]\n",
        "    n = len(playlists[key])\n",
        "    vector = df[df['id'].isin(playlist)].drop(columns=['id']).mean(axis=0)\n",
        "    all_songs = df[~df['id'].isin(playlist)].drop(columns=['id'])\n",
        "    try:\n",
        "      res = cosine_similarity(all_songs.values, vector.values.reshape(1, -1))\n",
        "    except ValueError:\n",
        "      continue\n",
        "    answer = list(pd.DataFrame(res, index=df[~df['id'].isin(playlist)]['id'])[0].nlargest(10).index)\n",
        "    answer = set(answer)\n",
        "    reall = playlists[key][5:]\n",
        "    reall = set(reall)\n",
        "    try:\n",
        "      array.append((len(answer & reall)/(10)) * 100)\n",
        "    except ZeroDivisionError:\n",
        "      continue\n",
        "  return np.mean(array)"
      ]
    },
    {
      "cell_type": "code",
      "execution_count": 17,
      "metadata": {
        "colab": {
          "base_uri": "https://localhost:8080/"
        },
        "id": "juoUe2ggifMB",
        "outputId": "0d6df75a-1ebf-4bdb-fa39-1901e91304ce"
      },
      "outputs": [
        {
          "data": {
            "text/plain": [
              "33.75"
            ]
          },
          "execution_count": 17,
          "metadata": {},
          "output_type": "execute_result"
        }
      ],
      "source": [
        "# первоначальный датасет\n",
        "get_result(usual_feature_df)"
      ]
    },
    {
      "cell_type": "code",
      "execution_count": 18,
      "metadata": {
        "colab": {
          "base_uri": "https://localhost:8080/"
        },
        "id": "E7gdzSQ5ifVH",
        "outputId": "10d549f4-1d8c-4bb0-d192-e4bb322dde98"
      },
      "outputs": [
        {
          "data": {
            "text/plain": [
              "35.25"
            ]
          },
          "execution_count": 18,
          "metadata": {},
          "output_type": "execute_result"
        }
      ],
      "source": [
        "# с векторами arousal и valence \n",
        "get_result(emovec_feature_df)"
      ]
    },
    {
      "cell_type": "code",
      "execution_count": null,
      "metadata": {
        "id": "B2RFtXLBsbod"
      },
      "outputs": [],
      "source": []
    }
  ],
  "metadata": {
    "colab": {
      "provenance": []
    },
    "kernelspec": {
      "display_name": "Python 3.10.1 ('venv': venv)",
      "language": "python",
      "name": "python3"
    },
    "language_info": {
      "name": "python",
      "version": "3.10.1"
    },
    "vscode": {
      "interpreter": {
        "hash": "a067da10cd91733dd3b737db6c085d16a3e4117e80a1737417e178be8b942cf0"
      }
    }
  },
  "nbformat": 4,
  "nbformat_minor": 0
}
