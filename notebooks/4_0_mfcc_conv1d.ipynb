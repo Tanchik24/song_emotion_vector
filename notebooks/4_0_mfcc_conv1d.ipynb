{
  "cells": [
    {
      "cell_type": "markdown",
      "metadata": {
        "id": "Rf0LOGo_IVe3"
      },
      "source": [
        "#### PMEmo dataset без аугментации"
      ]
    },
    {
      "cell_type": "code",
      "execution_count": 1,
      "metadata": {
        "colab": {
          "base_uri": "https://localhost:8080/"
        },
        "id": "NHBVIZ9yQO9n",
        "outputId": "aaac8c44-9ad5-4ecb-d60a-7a298483d9b0"
      },
      "outputs": [
        {
          "output_type": "stream",
          "name": "stdout",
          "text": [
            "Mounted at /content/gdrive\n"
          ]
        }
      ],
      "source": [
        "from google.colab import drive\n",
        "drive.mount('/content/gdrive')"
      ]
    },
    {
      "cell_type": "code",
      "execution_count": 2,
      "metadata": {
        "id": "I_oMkYz-QDqZ"
      },
      "outputs": [],
      "source": [
        "import os\n",
        "import csv\n",
        "import pandas as pd\n",
        "import numpy as np\n",
        "from collections import Counter\n",
        "import random\n",
        "import json\n",
        "import shutil\n",
        "import random\n",
        "\n",
        "import torch\n",
        "import torch.optim as optim\n",
        "import torch.nn as nn\n",
        "from torch.utils.data import Dataset, random_split, DataLoader\n",
        "from torchvision.models import resnet18\n",
        "from torch.autograd import Variable\n",
        "\n",
        "import librosa\n",
        "import soundfile as sf\n",
        "from sklearn.model_selection import train_test_split\n",
        "\n",
        "import matplotlib.pyplot as plt\n",
        "import seaborn as sns\n",
        "from torchvision import models"
      ]
    },
    {
      "cell_type": "markdown",
      "metadata": {
        "id": "mLSz6rJKGC8A"
      },
      "source": [
        "### Переносим файлы"
      ]
    },
    {
      "cell_type": "code",
      "execution_count": 3,
      "metadata": {
        "colab": {
          "base_uri": "https://localhost:8080/",
          "height": 35
        },
        "id": "2ht7_pE45H6i",
        "outputId": "3f2ea738-3b5b-4851-ec62-cf79b4e312d5"
      },
      "outputs": [
        {
          "output_type": "execute_result",
          "data": {
            "text/plain": [
              "'./mfcc_pmemo.zip'"
            ],
            "application/vnd.google.colaboratory.intrinsic+json": {
              "type": "string"
            }
          },
          "metadata": {},
          "execution_count": 3
        }
      ],
      "source": [
        "shutil.copy('/content/gdrive/MyDrive/new_PMEmo/mfcc_pmemo.zip', './')"
      ]
    },
    {
      "cell_type": "code",
      "execution_count": null,
      "metadata": {
        "id": "2Xay4Dmm5OjU"
      },
      "outputs": [],
      "source": [
        "!unzip /content/mfcc_pmemo.zip"
      ]
    },
    {
      "cell_type": "markdown",
      "metadata": {
        "id": "4FS0nGcBOJVp"
      },
      "source": [
        "### Агументация"
      ]
    },
    {
      "cell_type": "code",
      "execution_count": 5,
      "metadata": {
        "id": "2iTDVHgWOLRZ"
      },
      "outputs": [],
      "source": [
        "class DataPreprocessor():\n",
        "  \"\"\"\n",
        "    Create annotation for balanced dataset\n",
        "    \"\"\"\n",
        "  def __init__(self, df_dir):\n",
        "    self.__df = pd.read_csv(df_dir)\n",
        "    self.__make_new_dataset(size=1441)\n",
        "\n",
        "\n",
        "  def __get_quadrants(self, arousal, valence):\n",
        "    \"\"\"\n",
        "    Determine the quadrant based on arousal and valence values.\n",
        "\n",
        "    Args:\n",
        "      arousal (float): Arousal value.\n",
        "      valence (float): Valence value.\n",
        "\n",
        "    Returns:\n",
        "      int: The quadrant number (1, 2, 3, or 4).\n",
        "    \"\"\"\n",
        "    mid_val = 0.5\n",
        "    if valence > mid_val:\n",
        "      return 4 if arousal < mid_val else 1\n",
        "    else:\n",
        "      return 3 if arousal < mid_val else 2\n",
        "\n",
        "\n",
        "  def __add_quadrants_columns(self, quadrants):\n",
        "    \"\"\"\n",
        "    Add a 'quadrant' column to the DataFrame.\n",
        "\n",
        "    Args:\n",
        "      quadrants (list): List of quadrant numbers.\n",
        "\n",
        "    Returns:\n",
        "      pandas.DataFrame: Updated DataFrame with the 'quadrant' column.\n",
        "    \"\"\"\n",
        "    qudrants_df = pd.DataFrame(quadrants, columns = ['quadrant'])\n",
        "    self.__df = pd.concat([self.__df, qudrants_df], axis=1)\n",
        "    return self.__df\n",
        "\n",
        "\n",
        "  def __count_quadrants(self):\n",
        "    \"\"\"\n",
        "    Count the number of samples in each quadrant.\n",
        "\n",
        "    Returns:\n",
        "      tuple: A tuple containing a list of quadrants and a Counter object with quadrant counts.\n",
        "    \"\"\"\n",
        "    quadrants = []\n",
        "    for row in range(self.__df.shape[0]):\n",
        "      arousal = self.__df.iloc[row]['arousal']\n",
        "      valence = self.__df.iloc[row]['valence']\n",
        "      quadrants.append(self.__get_quadrants(arousal, valence))\n",
        "    quadrants_counter = Counter(quadrants)\n",
        "    for key in quadrants_counter.keys():\n",
        "      print(f'Quadrat {key} : {quadrants_counter[key]} samples')\n",
        "    return quadrants, quadrants_counter\n",
        "\n",
        "\n",
        "  def __save_csv(self):\n",
        "    \"\"\"\n",
        "    Save the DataFrame as a CSV file.\n",
        "\n",
        "    Returns:\n",
        "      None\n",
        "    \"\"\"\n",
        "    self.__df.to_csv('./data/processed/temp_annotation.csv', index=False)\n",
        "\n",
        "\n",
        "  def __make_new_dataset(self, size=1500):\n",
        "    \"\"\"\n",
        "    Create a new dataset with a specified size by balancing the samples in each quadrant.\n",
        "\n",
        "    Args:\n",
        "      size (int): The desired size of each quadrants.\n",
        "\n",
        "    Returns:\n",
        "      None\n",
        "    \"\"\"\n",
        "    quadrants, quadrants_counter = self.__count_quadrants()\n",
        "    self.__df = self.__add_quadrants_columns(quadrants)\n",
        "    for key in quadrants_counter.keys():\n",
        "      quadrant_size = quadrants_counter[key]\n",
        "      indexes = list(self.__df[self.__df['quadrant'] == key].index)\n",
        "\n",
        "      if quadrant_size >= size:\n",
        "        del_size = quadrants_counter[key] - size\n",
        "        del_indexes = random.sample(indexes, del_size)\n",
        "        self.__df.drop(index=del_indexes, inplace=True)\n",
        "\n",
        "      else:\n",
        "        added_size = size - quadrant_size\n",
        "        added_indexes =  random.sample(indexes, added_size)\n",
        "        self.__df = pd.concat([self.__df, self.__df.loc[added_indexes]], axis=0).reset_index(drop=True)\n",
        "    self.__save_csv()"
      ]
    },
    {
      "cell_type": "code",
      "execution_count": 9,
      "metadata": {
        "colab": {
          "base_uri": "https://localhost:8080/"
        },
        "id": "5c9eYSLbOsuz",
        "outputId": "1c17c375-1fbb-4437-bc37-2833f5ecac23"
      },
      "outputs": [
        {
          "output_type": "stream",
          "name": "stdout",
          "text": [
            "Quadrat 4 : 1441 samples\n",
            "Quadrat 3 : 2702 samples\n",
            "Quadrat 2 : 1851 samples\n",
            "Quadrat 1 : 12218 samples\n"
          ]
        },
        {
          "output_type": "execute_result",
          "data": {
            "text/plain": [
              "<__main__.DataPreprocessor at 0x7fae1040c790>"
            ]
          },
          "metadata": {},
          "execution_count": 9
        }
      ],
      "source": [
        "DataPreprocessor('/content/new_annotation_pmemo.csv')"
      ]
    },
    {
      "cell_type": "markdown",
      "metadata": {
        "id": "7KdDhp3zzqY6"
      },
      "source": [
        "### Создание train/valid датасета"
      ]
    },
    {
      "cell_type": "code",
      "source": [
        "df = pd.read_csv('/content/data/processed/temp_annotation.csv')"
      ],
      "metadata": {
        "id": "sXUheHbkq0hL"
      },
      "execution_count": null,
      "outputs": []
    },
    {
      "cell_type": "code",
      "execution_count": 117,
      "metadata": {
        "id": "1upFmQG7z4pW"
      },
      "outputs": [],
      "source": [
        "x_train, x_valid = train_test_split(df, test_size=0.25,\n",
        "                                                      random_state=42)"
      ]
    },
    {
      "cell_type": "code",
      "execution_count": 118,
      "metadata": {
        "id": "XrW6lxhKz8Fd"
      },
      "outputs": [],
      "source": [
        "x_train.to_csv('train_annotation.csv', index=False)\n",
        "x_valid.to_csv('valid_annotation.csv', index=False)"
      ]
    },
    {
      "cell_type": "code",
      "execution_count": 25,
      "metadata": {
        "id": "g8qfoQAdjSfk"
      },
      "outputs": [],
      "source": [
        "def visualization(valence, arousal):\n",
        "  plt.figure(figsize=(4, 4))\n",
        "\n",
        "  plt.xlim(0, 1)\n",
        "  plt.ylim(0, 1)\n",
        "\n",
        "  plt.axvline(x=0.5, color='grey', linestyle='--')\n",
        "  plt.axhline(y=0.5, color='grey', linestyle='--')\n",
        "\n",
        "  plt.scatter(valence, arousal)\n",
        "\n",
        "  plt.xlabel('Valence')\n",
        "  plt.ylabel('Arousal')\n",
        "\n",
        "  plt.title('Дж. Рассел: arousal и valence')\n",
        "\n",
        "  plt.show()"
      ]
    },
    {
      "cell_type": "markdown",
      "metadata": {
        "id": "J6dwPbcAfU3Y"
      },
      "source": [
        "### Среднее и std"
      ]
    },
    {
      "cell_type": "code",
      "execution_count": 119,
      "metadata": {
        "colab": {
          "base_uri": "https://localhost:8080/"
        },
        "id": "G_Pkw1aEMX44",
        "outputId": "5297412d-087d-4530-c66d-dea19bcff719"
      },
      "outputs": [
        {
          "output_type": "stream",
          "name": "stdout",
          "text": [
            "tensor(13.6983)\n",
            "tensor(53.4555)\n"
          ]
        }
      ],
      "source": [
        "songs_dir = '/content/mfcc'\n",
        "songs = list(pd.read_csv('/content/data/processed/temp_annotation.csv')['song_id'].values)\n",
        "mfccs = []\n",
        "for song in songs:\n",
        "  mfcc = torch.tensor(np.load(os.path.join(songs_dir, f'{song}.npy')), dtype=torch.float)\n",
        "  mfccs.append(mfcc)\n",
        "combined = torch.cat(mfccs, dim=0)\n",
        "print(torch.mean(combined))\n",
        "print(torch.std(combined))"
      ]
    },
    {
      "cell_type": "code",
      "execution_count": 120,
      "metadata": {
        "id": "t_GW02hquFq2"
      },
      "outputs": [],
      "source": [
        "class MusicDataset(Dataset):\n",
        "  def __init__(self, annot_dir, mfcc_dir):\n",
        "    self.mfcc_dir = mfcc_dir\n",
        "    self.annot_df = pd.read_csv(annot_dir)\n",
        "    self.music_name = list(self.annot_df['song_id'].values)\n",
        "\n",
        "  def __len__(self):\n",
        "    return len(self.music_name)\n",
        "\n",
        "  def normalize_mfccs(self, mfcc):\n",
        "    mean = torch.tensor(13.6983, dtype=torch.float)\n",
        "    std = torch.tensor(53.4555, dtype=torch.float)\n",
        "    return (mfcc - mean) / std\n",
        "\n",
        "  def __getitem__(self, idx):\n",
        "    series =  self.annot_df.iloc[idx]\n",
        "    mfcc = self.normalize_mfccs(torch.tensor(np.load(os.path.join(self.mfcc_dir, f\"{series['song_id']}.npy\")), dtype=torch.float))\n",
        "    arousal = torch.tensor(series['arousal'], dtype=torch.float)\n",
        "    valence = torch.tensor(series['valence'], dtype=torch.float)\n",
        "    return mfcc, arousal, valence"
      ]
    },
    {
      "cell_type": "code",
      "execution_count": 121,
      "metadata": {
        "id": "Kbx_TFvn1OOl"
      },
      "outputs": [],
      "source": [
        "train_dir = '/content/train_annotation.csv'\n",
        "valid_dir = '/content/valid_annotation.csv'\n",
        "mfcc_dir = '/content/mfcc'\n",
        "train_dataset = MusicDataset(train_dir, mfcc_dir)\n",
        "valid_dataset = MusicDataset(valid_dir, mfcc_dir)"
      ]
    },
    {
      "cell_type": "code",
      "execution_count": 122,
      "metadata": {
        "colab": {
          "base_uri": "https://localhost:8080/"
        },
        "id": "LVlW3lwfiqRa",
        "outputId": "326bea8c-8cf3-425c-c705-fd278a693eeb"
      },
      "outputs": [
        {
          "output_type": "stream",
          "name": "stdout",
          "text": [
            "4473\n",
            "1491\n"
          ]
        }
      ],
      "source": [
        "train_size = len(train_dataset)\n",
        "valid_size = len(valid_dataset)\n",
        "print(train_size)\n",
        "print(valid_size)"
      ]
    },
    {
      "cell_type": "code",
      "execution_count": 123,
      "metadata": {
        "id": "hSjqb8FF1TZV"
      },
      "outputs": [],
      "source": [
        "train_data = torch.utils.data.DataLoader(train_dataset, batch_size=64, shuffle=True)\n",
        "valid_data = torch.utils.data.DataLoader(valid_dataset, batch_size=64, shuffle=True)"
      ]
    },
    {
      "cell_type": "code",
      "execution_count": 124,
      "metadata": {
        "colab": {
          "base_uri": "https://localhost:8080/"
        },
        "id": "cafrM3jt1VPB",
        "outputId": "59f42349-fafe-40e2-a12b-a7a340f762a5"
      },
      "outputs": [
        {
          "output_type": "execute_result",
          "data": {
            "text/plain": [
              "torch.Size([64, 20, 100])"
            ]
          },
          "metadata": {},
          "execution_count": 124
        }
      ],
      "source": [
        "mfcc, arousal, valence = next(iter(train_data))\n",
        "mfcc.shape"
      ]
    },
    {
      "cell_type": "code",
      "execution_count": 133,
      "metadata": {
        "id": "2Dx7jKfJ0OK1"
      },
      "outputs": [],
      "source": [
        "class EmotionModel(nn.Module):\n",
        "    def __init__(self):\n",
        "        super().__init__()\n",
        "        self.conv1 = nn.Sequential(nn.Conv1d(20, 32, 3, 1),\n",
        "                                    nn.BatchNorm1d(32),\n",
        "                                    nn.LeakyReLU(),\n",
        "                                    nn.AvgPool1d(2, 2))\n",
        "        self.conv2 = nn.Sequential(nn.Conv1d(32, 64, 3, 1),\n",
        "                                    nn.BatchNorm1d(64),\n",
        "                                    nn.LeakyReLU(),\n",
        "                                   nn.AvgPool1d(2, 2))\n",
        "        self.conv3 = nn.Sequential(nn.Conv1d(64, 128, 3, 1),\n",
        "                                    nn.BatchNorm1d(128),\n",
        "                                    nn.LeakyReLU(),\n",
        "                                    nn.AvgPool1d(2, 2))\n",
        "        self.conv4 = nn.Sequential(nn.Conv1d(128, 64, 3, 1),\n",
        "                                    nn.BatchNorm1d(64),\n",
        "                                    nn.LeakyReLU(),\n",
        "                                   nn.AvgPool1d(2, 2))\n",
        "        self.conv5 = nn.Sequential(nn.Conv1d(64, 32, 3, 1),\n",
        "                                    nn.BatchNorm1d(32),\n",
        "                                    nn.LeakyReLU(),\n",
        "                                    nn.AvgPool1d(2, 2))\n",
        "        self.fc1 = nn.Sequential(nn.Linear(32, 16),\n",
        "                                  nn.Dropout(0.5),\n",
        "                                  nn.LeakyReLU())\n",
        "        self.fc2 = nn.Linear(16, 1)\n",
        "        self.dropout = nn.Dropout(0.5)\n",
        "\n",
        "    def forward(self, x):\n",
        "        x = self.conv1(x)\n",
        "        x = self.dropout(self.conv2(x))\n",
        "        x = self.conv3(x)\n",
        "        x = self.dropout(self.conv4(x))\n",
        "        x = self.conv5(x)\n",
        "        x = x.view(-1, x.shape[1] * x.shape[2])\n",
        "        x = self.fc1(x)\n",
        "        x = self.fc2(x)\n",
        "\n",
        "        return x"
      ]
    },
    {
      "cell_type": "code",
      "execution_count": 134,
      "metadata": {
        "colab": {
          "base_uri": "https://localhost:8080/"
        },
        "id": "adv9k1864h2N",
        "outputId": "a39cfb03-e2bf-49b9-d104-14fc017a1e1f"
      },
      "outputs": [
        {
          "output_type": "stream",
          "name": "stdout",
          "text": [
            "cpu\n"
          ]
        }
      ],
      "source": [
        "device = 'cuda' if torch.cuda.is_available() else 'cpu'\n",
        "print(device)"
      ]
    },
    {
      "cell_type": "code",
      "execution_count": 135,
      "metadata": {
        "id": "rwdVgWfg3tZH"
      },
      "outputs": [],
      "source": [
        "model = EmotionModel()\n",
        "model = model.to(device)"
      ]
    },
    {
      "cell_type": "code",
      "execution_count": 136,
      "metadata": {
        "colab": {
          "base_uri": "https://localhost:8080/"
        },
        "id": "PE3X4E-hFCe9",
        "outputId": "2a45417d-0a2f-40e0-f630-da80a2c6a635"
      },
      "outputs": [
        {
          "output_type": "execute_result",
          "data": {
            "text/plain": [
              "torch.Size([64])"
            ]
          },
          "metadata": {},
          "execution_count": 136
        }
      ],
      "source": [
        "model(mfcc.to(device)).squeeze().shape"
      ]
    },
    {
      "cell_type": "code",
      "execution_count": 137,
      "metadata": {
        "id": "3fZmH7004W-I"
      },
      "outputs": [],
      "source": [
        "criterion = nn.MSELoss()\n",
        "optimizer = optim.Adam(model.parameters(), lr=0.0001, weight_decay=0.01)\n",
        "metric = nn.L1Loss()"
      ]
    },
    {
      "cell_type": "code",
      "execution_count": 138,
      "metadata": {
        "id": "tr_QOEEO5Dfp"
      },
      "outputs": [],
      "source": [
        "with open('/content/gdrive/MyDrive/CNN_one_model/valence_history8.csv', 'w') as file:\n",
        "          writer = csv.writer(file)\n",
        "          writer.writerows([['epoch', 'train_loss', 'train_metric', 'valid_loss', 'valid_metric']])"
      ]
    },
    {
      "cell_type": "code",
      "execution_count": 139,
      "metadata": {
        "id": "I2a0iFJEcKOz"
      },
      "outputs": [],
      "source": [
        "def train_model(model, n_epochs, optimizer, criterion, target, metric):\n",
        "\n",
        "    history = {\n",
        "    'train_losses': [],\n",
        "    'valid_losses': [],\n",
        "    'train_metrics': [],\n",
        "    'valid_metrics': []\n",
        "    }\n",
        "\n",
        "    best_metrics = {'epoch': 0, 'valid_loss': 0, 'valid_metric': 0}\n",
        "\n",
        "    for epoch in range(n_epochs):\n",
        "        train_losses_iter = []\n",
        "        train_metrics_iter = []\n",
        "        model.train()\n",
        "        j=0\n",
        "        for music, arousal, valence in train_data:\n",
        "            if j % 10 == 0:\n",
        "              print(f'{j} итерация в train')\n",
        "            j+=1\n",
        "            music, arousal, valence = music.to(device), arousal.to(device), valence.to(device)\n",
        "            out = model(music)\n",
        "            if target == 'arousal':\n",
        "                loss = torch.sqrt(criterion(out.squeeze(), arousal))\n",
        "                metric_res = metric(out.squeeze(), arousal)\n",
        "            elif target == 'valence':\n",
        "                loss = torch.sqrt(criterion(out.squeeze(), valence))\n",
        "                metric_res = metric(out.squeeze(), valence)\n",
        "\n",
        "            train_losses_iter.append(loss.item())\n",
        "            train_metrics_iter.append(metric_res.item())\n",
        "\n",
        "            optimizer.zero_grad()\n",
        "            loss.backward()\n",
        "            optimizer.step()\n",
        "\n",
        "        history['train_losses'].append(np.mean(train_losses_iter))\n",
        "        history['train_metrics'].append(np.mean(train_metrics_iter))\n",
        "\n",
        "        valid_losses_iter = []\n",
        "        valid_metrics_iter = []\n",
        "        model.eval()\n",
        "\n",
        "        i=0\n",
        "        for music, arousal, valence in valid_data:\n",
        "            i+= 1\n",
        "            if i % 10 == 0:\n",
        "                print(f'{i} итерация в valid')\n",
        "\n",
        "            music, arousal, valence = music.to(device), arousal.to(device), valence.to(device)\n",
        "            out = model(music)\n",
        "            if target == 'arousal':\n",
        "                loss = torch.sqrt(criterion(out.squeeze(), arousal))\n",
        "                metric_res = metric(out.squeeze(), arousal)\n",
        "            elif target == 'valence':\n",
        "                loss = torch.sqrt(criterion(out.squeeze(), valence))\n",
        "                metric_res = metric(out.squeeze(), valence)\n",
        "\n",
        "            valid_losses_iter.append(loss.item())\n",
        "            valid_metrics_iter.append(metric_res.item())\n",
        "\n",
        "        history['valid_losses'].append(np.mean(valid_losses_iter))\n",
        "        history['valid_metrics'].append(np.mean(valid_metrics_iter))\n",
        "        with open('/content/gdrive/MyDrive/CNN_one_model/valence_history8.csv', 'a') as file:\n",
        "          writer = csv.writer(file)\n",
        "          writer.writerows([[epoch, round(history[\"train_losses\"][-1], 4),\n",
        "                             round(history[\"train_metrics\"][-1], 4),\n",
        "                             round(history[\"valid_losses\"][-1], 4),\n",
        "                             round(history[\"valid_metrics\"][-1], 4)]])\n",
        "\n",
        "        if (best_metrics['valid_loss'] == 0) or (best_metrics['valid_loss'] > history[\"valid_losses\"][-1]):\n",
        "          best_metrics['epoch'] = epoch\n",
        "          best_metrics['valid_loss'] = history[\"valid_losses\"][-1]\n",
        "          best_metrics['valid_metric'] = history[\"valid_metrics\"][-1]\n",
        "          torch.save(model.state_dict(), '/content/gdrive/MyDrive/CNN_one_model/valence_weights8/best_model.pt')\n",
        "          print(f\"best results: epoch {best_metrics['epoch']}, valid loss {best_metrics['valid_loss']}, valid metric {best_metrics['valid_metric']}\")\n",
        "\n",
        "          with open('/content/gdrive/MyDrive/CNN_one_model/valence_best_res8.json', 'w') as outfile:\n",
        "            json.dump(best_metrics, outfile)\n",
        "\n",
        "        torch.save(model.state_dict(), '/content/gdrive/MyDrive/CNN_one_model/valence_weights8/each_epochs.pt')\n",
        "        if epoch == 100:\n",
        "          torch.save(model.state_dict(), '/content/gdrive/MyDrive/CNN_one_model/valence_weights8/100_epochs.pt')\n",
        "        if epoch == 199:\n",
        "          torch.save(model.state_dict(), '/content/gdrive/MyDrive/CNN_one_model/valence_weights8/200_epochs.pt')\n",
        "\n",
        "        print(f'epoch: {epoch}\\n'\n",
        "        f'train: loss {history[\"train_losses\"][-1]:.4f}\\n'\n",
        "        f'train: metric {history[\"train_metrics\"][-1]:.4f}\\n'\n",
        "        f'valid: loss {history[\"valid_losses\"][-1]:.4f}\\n'\n",
        "        f'valid: metric {history[\"valid_metrics\"][-1]:.4f}')\n",
        "        print(f'{\"-\"*35}')\n",
        "        print()\n",
        "    return history"
      ]
    },
    {
      "cell_type": "code",
      "execution_count": null,
      "metadata": {
        "id": "CciNtB2e5P9j"
      },
      "outputs": [],
      "source": [
        "history = train_model(model, 600, optimizer, criterion, 'valence', metric)"
      ]
    },
    {
      "cell_type": "markdown",
      "metadata": {
        "id": "CRUaTBh1dugi"
      },
      "source": [
        "### Сравнение метрик"
      ]
    },
    {
      "cell_type": "markdown",
      "metadata": {
        "id": "hSUnVoxtq8sp"
      },
      "source": [
        "### Для arousal"
      ]
    },
    {
      "cell_type": "code",
      "execution_count": 145,
      "metadata": {
        "id": "ShOuE5Rq0Mvn"
      },
      "outputs": [],
      "source": [
        "class Visualizer():\n",
        "    def __init__(self, model_arousal, model_valence, valid_dataset):\n",
        "        self.device = device = 'cuda' if torch.cuda.is_available() else 'cpu'\n",
        "        self.model_arousal = model_arousal.to(self.device)\n",
        "        self.model_arousal.eval()\n",
        "        self.model_valence = model_valence.to(self.device)\n",
        "        self.model_valence.eval()\n",
        "        self.valid_data = valid_dataset\n",
        "        self.arousal_history_dir = '/content/gdrive/MyDrive/CNN_one_model/arousal_history7.csv'\n",
        "        self.arousal_best_res_dir = '/content/gdrive/MyDrive/CNN_one_model/arousal_best_res7.json'\n",
        "        self.valence_history_dir = '/content/gdrive/MyDrive/CNN_one_model/valence_history7.csv'\n",
        "        self.valence_best_res_dir = '/content/gdrive/MyDrive/CNN_one_model/valence_best_res7.json'\n",
        "        sns.set_style('whitegrid')\n",
        "        sns.set_palette('husl')\n",
        "\n",
        "\n",
        "    def get_model_results(self):\n",
        "        true_val_arousal = []\n",
        "        pred_val_arousal = []\n",
        "        true_val_valence = []\n",
        "        pred_val_valence = []\n",
        "        for music, arousal, valence in self.valid_data:\n",
        "          out_arousal = self.model_arousal(music.to(self.device))\n",
        "          out_valence = self.model_valence(music.to(self.device))\n",
        "          true_val_arousal+=list(arousal.cpu().detach().numpy())\n",
        "          true_val_valence+=list(valence.cpu().detach().numpy())\n",
        "          pred_val_arousal+=list(out_arousal.squeeze().cpu().detach().numpy())\n",
        "          pred_val_valence+=list(out_valence.squeeze().cpu().detach().numpy())\n",
        "        return true_val_arousal, pred_val_arousal, true_val_valence, pred_val_valence\n",
        "\n",
        "\n",
        "    def get_arousal_valence_plot(self, axis1):\n",
        "        arousal_true, arousal_pred, valence_true, valence_pred = self.get_model_results()\n",
        "        axis1.set_xlim(0, 1)\n",
        "        axis1.set_ylim(0, 1)\n",
        "        axis1.axvline(x=0.5, color='grey', linestyle='--')\n",
        "        axis1.axhline(y=0.5, color='grey', linestyle='--')\n",
        "        for index, (arousal_true, valence_true) in enumerate(zip(arousal_true, valence_true)):\n",
        "          colors = {1: 'blue', 2: 'red', 3: 'green', 4: 'purple'}\n",
        "          quadrant = self.get_quadrants(arousal_true, valence_true)\n",
        "          axis1.scatter(valence_pred[index], arousal_pred[index], color=colors[quadrant], s=1)\n",
        "        axis1.set_xlabel('Valence')\n",
        "        axis1.set_ylabel('Arousal')\n",
        "        axis1.set_title('Дж. Рассел: arousal и valence')\n",
        "\n",
        "\n",
        "    def get_quadrants(self, arousal, valence):\n",
        "        mid_val = 0.5\n",
        "        if valence > mid_val:\n",
        "            return 4 if arousal < mid_val else 1\n",
        "        else:\n",
        "            return 3 if arousal < mid_val else 2\n",
        "\n",
        "\n",
        "    def get_quadrants_res(self):\n",
        "        true_val_arosual, pred_val_arosual, true_val_valence, pred_val_valence = self.get_model_results()\n",
        "        true = []\n",
        "        pred = []\n",
        "        for arousal, valence in zip(pred_val_arosual, pred_val_valence):\n",
        "            pred.append(self.get_quadrants(arousal, valence))\n",
        "        for arousal, valence in zip(true_val_arosual, true_val_valence):\n",
        "            true.append(self.get_quadrants(arousal, valence))\n",
        "        quadrants = {1: [], 2: [], 3: [], 4: []}\n",
        "        for index, quadrant in enumerate(true):\n",
        "            quadrants[quadrant].append(1) if pred[index] == quadrant else quadrants[quadrant].append(0)\n",
        "        df = pd.DataFrame({'Quadrant 1': [np.mean(quadrants[1])],\n",
        "                           'Quadrant 2': [np.mean(quadrants[2])],\n",
        "                           'Quadrant 3': [np.mean(quadrants[3])],\n",
        "                           'Quadrant 4': [np.mean(quadrants[4])]})\n",
        "        return df\n",
        "\n",
        "\n",
        "    def get_range(self, target='arousal'):\n",
        "        true_val_arosual, pred_val_arosual, true_val_valence, pred_val_valence = self.get_model_results()\n",
        "        pred_val = pred_val_arosual if target == 'arousal' else pred_val_valence\n",
        "        min_val = np.min(pred_val)\n",
        "        max_val = np.max(pred_val)\n",
        "        df = pd.DataFrame({'min_val': min_val,\n",
        "                           'max_val': max_val}, index=[target])\n",
        "        return df\n",
        "\n",
        "\n",
        "    def get_best_res(self, target='arousal'):\n",
        "        dir = self.arousal_best_res_dir if target == 'arousal' else self.valence_best_res_dir\n",
        "        with open(dir) as f:\n",
        "            data = json.load(f)\n",
        "        df = pd.DataFrame({'epoch': [data['epoch']],\n",
        "                           'valid_loss': [data['valid_loss']],\n",
        "                           'valid_metric': [data['valid_metric']]}, index=[target])\n",
        "        return df\n",
        "\n",
        "\n",
        "    def get_history_plot(self, axis1, axis2, target='arousal'):\n",
        "        if target == 'arousal':\n",
        "            df = pd.read_csv(self.arousal_history_dir)\n",
        "        elif target == 'valence':\n",
        "            df = pd.read_csv(self.valence_history_dir)\n",
        "        axis1.plot(df['epoch'], df['train_loss'], label='train')\n",
        "        axis1.plot(df['epoch'], df['valid_loss'], label='valid')\n",
        "        axis1.legend()\n",
        "        axis1.set_xlabel('epochs')\n",
        "        axis1.set_ylabel('loss')\n",
        "        axis1.set_title(f'{target} loss function')\n",
        "        axis2.plot(df['epoch'], df['train_metric'], label='train')\n",
        "        axis2.plot(df['epoch'], df['valid_metric'], label='valid')\n",
        "        axis2.legend()\n",
        "        axis2.set_xlabel('epochs')\n",
        "        axis2.set_ylabel('metric')\n",
        "        axis2.set_title(f'{target} metrics')\n",
        "        plt.tight_layout()\n",
        "\n",
        "\n",
        "    def get_true_pred_plot(self, axis, target='arousal'):\n",
        "        true_val_arosual, pred_val_arosual, true_val_valence, pred_val_valence = self.get_model_results()\n",
        "        axis.set_aspect('equal')\n",
        "        axis.spines['right'].set_visible(False)\n",
        "        axis.spines['top'].set_visible(False)\n",
        "        plt.ylim(0, 1)\n",
        "        plt.xlim(0, 1)\n",
        "        if target == 'arousal':\n",
        "            axis.set_xticks([])\n",
        "            axis.spines['bottom'].set_visible(False)\n",
        "            axis.spines['left'].set_position('center')\n",
        "            axis.text(0.40, 1.1, 'Arousal', verticalalignment='top')\n",
        "            x = np.linspace(0, 1, len(true_val_arosual), endpoint=True)\n",
        "            idx = np.argsort(pred_val_arosual)\n",
        "            true_sorted_arousal = np.array(true_val_arosual)[idx.astype(int)]\n",
        "            pred_sorted_arousal = np.array(pred_val_arosual)[idx.astype(int)]\n",
        "            axis.plot(x, pred_sorted_arousal, lw=2, color='purple')\n",
        "            axis.scatter(x, true_sorted_arousal, s=1)\n",
        "        if target == 'valence':\n",
        "            axis.set_yticks([])\n",
        "            axis.spines['left'].set_visible(False)\n",
        "            axis.spines['bottom'].set_position('center')\n",
        "            axis.text(1.01, 0.515, 'Valence', horizontalalignment='right')\n",
        "            y = np.linspace(0, 1, len(true_val_valence), endpoint=True)\n",
        "            idx = np.argsort(pred_val_valence)\n",
        "            true_sorted_arousal = np.array(true_val_valence)[idx.astype(int)]\n",
        "            pred_sorted_arousal = np.array(pred_val_valence)[idx.astype(int)]\n",
        "            axis.plot(pred_sorted_arousal, y, lw=2, color='purple')\n",
        "            axis.scatter(true_sorted_arousal, y, s=1)\n",
        "\n",
        "\n",
        "    def get_full_visualisation(self):\n",
        "        fig, axes = plt.subplots(4, 2, figsize=(7, 12))\n",
        "        self.get_history_plot(axes[0, 0], axes[0, 1], target='arousal')\n",
        "        self.get_history_plot(axes[1, 0], axes[1, 1], target='valence')\n",
        "        self.get_true_pred_plot(axes[2, 0], target='arousal')\n",
        "        self.get_true_pred_plot(axes[2, 1], target='valence')\n",
        "        self.get_arousal_valence_plot(axes[3, 0])\n",
        "        plt.tight_layout()\n",
        "        plt.show()\n",
        "\n",
        "        arousal_metrics_df = self.get_best_res('arousal')\n",
        "        arousal_range_df = self.get_range(target='arousal')\n",
        "        arousal_df = pd.concat([arousal_metrics_df,arousal_range_df], axis=1)\n",
        "        valence_metrics_df = self.get_best_res('valence')\n",
        "        valence_range_df = self.get_range(target='valence')\n",
        "        valence_df = pd.concat([valence_metrics_df,valence_range_df], axis=1)\n",
        "        df = pd.concat([arousal_df, valence_df])\n",
        "        quadrant_df = self.get_quadrants_res()\n",
        "        display(df)\n",
        "        display(quadrant_df)"
      ]
    },
    {
      "cell_type": "code",
      "execution_count": 142,
      "metadata": {
        "colab": {
          "base_uri": "https://localhost:8080/"
        },
        "id": "TqVsA4sM0b6u",
        "outputId": "9f7784b8-bc67-499a-d362-b29506dae36f"
      },
      "outputs": [
        {
          "output_type": "execute_result",
          "data": {
            "text/plain": [
              "<All keys matched successfully>"
            ]
          },
          "metadata": {},
          "execution_count": 142
        }
      ],
      "source": [
        "model_arousal = EmotionModel()\n",
        "model_arousal.load_state_dict(torch.load('/content/gdrive/MyDrive/CNN_one_model/arousal_weights8/best_model.pt', map_location=torch.device('cpu')))\n",
        "model_valence = EmotionModel()\n",
        "model_valence.load_state_dict(torch.load('/content/gdrive/MyDrive/CNN_one_model/valence_weights8/best_model.pt', map_location=torch.device('cpu')))"
      ]
    },
    {
      "cell_type": "code",
      "execution_count": 143,
      "metadata": {
        "id": "9LMbUTIBzZL9"
      },
      "outputs": [],
      "source": [
        "visualiser = Visualizer(model_arousal, model_valence, valid_data)"
      ]
    },
    {
      "cell_type": "code",
      "source": [
        "visualiser.get_full_visualisation()"
      ],
      "metadata": {
        "colab": {
          "base_uri": "https://localhost:8080/",
          "height": 1000
        },
        "id": "nkmjv_2wTj3u",
        "outputId": "76f7ea5a-09c9-456b-fab0-d2b11e3530d3"
      },
      "execution_count": 86,
      "outputs": [
        {
          "output_type": "display_data",
          "data": {
            "text/plain": [
              "<Figure size 700x1200 with 8 Axes>"
            ],
            "image/png": "[encoded data removed]"
          },
          "metadata": {}
        },
        {
          "output_type": "display_data",
          "data": {
            "text/plain": [
              "         epoch  valid_loss  valid_metric   min_val   max_val\n",
              "arousal    309    0.108375      0.082370  0.203454  0.841843\n",
              "valence    303    0.106244      0.080363  0.148297  0.832545"
            ],
            "text/html": [
              "\n",
              "  <div id=\"df-ead4f33b-7cb5-4ec5-95d9-869581c5e51d\">\n",
              "    <div class=\"colab-df-container\">\n",
              "      <div>\n",
              "<style scoped>\n",
              "    .dataframe tbody tr th:only-of-type {\n",
              "        vertical-align: middle;\n",
              "    }\n",
              "\n",
              "    .dataframe tbody tr th {\n",
              "        vertical-align: top;\n",
              "    }\n",
              "\n",
              "    .dataframe thead th {\n",
              "        text-align: right;\n",
              "    }\n",
              "</style>\n",
              "<table border=\"1\" class=\"dataframe\">\n",
              "  <thead>\n",
              "    <tr style=\"text-align: right;\">\n",
              "      <th></th>\n",
              "      <th>epoch</th>\n",
              "      <th>valid_loss</th>\n",
              "      <th>valid_metric</th>\n",
              "      <th>min_val</th>\n",
              "      <th>max_val</th>\n",
              "    </tr>\n",
              "  </thead>\n",
              "  <tbody>\n",
              "    <tr>\n",
              "      <th>arousal</th>\n",
              "      <td>309</td>\n",
              "      <td>0.108375</td>\n",
              "      <td>0.082370</td>\n",
              "      <td>0.203454</td>\n",
              "      <td>0.841843</td>\n",
              "    </tr>\n",
              "    <tr>\n",
              "      <th>valence</th>\n",
              "      <td>303</td>\n",
              "      <td>0.106244</td>\n",
              "      <td>0.080363</td>\n",
              "      <td>0.148297</td>\n",
              "      <td>0.832545</td>\n",
              "    </tr>\n",
              "  </tbody>\n",
              "</table>\n",
              "</div>\n",
              "      <button class=\"colab-df-convert\" onclick=\"convertToInteractive('df-ead4f33b-7cb5-4ec5-95d9-869581c5e51d')\"\n",
              "              title=\"Convert this dataframe to an interactive table.\"\n",
              "              style=\"display:none;\">\n",
              "        \n",
              "  <svg xmlns=\"http://www.w3.org/2000/svg\" height=\"24px\"viewBox=\"0 0 24 24\"\n",
              "       width=\"24px\">\n",
              "    <path d=\"M0 0h24v24H0V0z\" fill=\"none\"/>\n",
              "    <path d=\"M18.56 5.44l.94 2.06.94-2.06 2.06-.94-2.06-.94-.94-2.06-.94 2.06-2.06.94zm-11 1L8.5 8.5l.94-2.06 2.06-.94-2.06-.94L8.5 2.5l-.94 2.06-2.06.94zm10 10l.94 2.06.94-2.06 2.06-.94-2.06-.94-.94-2.06-.94 2.06-2.06.94z\"/><path d=\"M17.41 7.96l-1.37-1.37c-.4-.4-.92-.59-1.43-.59-.52 0-1.04.2-1.43.59L10.3 9.45l-7.72 7.72c-.78.78-.78 2.05 0 2.83L4 21.41c.39.39.9.59 1.41.59.51 0 1.02-.2 1.41-.59l7.78-7.78 2.81-2.81c.8-.78.8-2.07 0-2.86zM5.41 20L4 18.59l7.72-7.72 1.47 1.35L5.41 20z\"/>\n",
              "  </svg>\n",
              "      </button>\n",
              "      \n",
              "  <style>\n",
              "    .colab-df-container {\n",
              "      display:flex;\n",
              "      flex-wrap:wrap;\n",
              "      gap: 12px;\n",
              "    }\n",
              "\n",
              "    .colab-df-convert {\n",
              "      background-color: #E8F0FE;\n",
              "      border: none;\n",
              "      border-radius: 50%;\n",
              "      cursor: pointer;\n",
              "      display: none;\n",
              "      fill: #1967D2;\n",
              "      height: 32px;\n",
              "      padding: 0 0 0 0;\n",
              "      width: 32px;\n",
              "    }\n",
              "\n",
              "    .colab-df-convert:hover {\n",
              "      background-color: #E2EBFA;\n",
              "      box-shadow: 0px 1px 2px rgba(60, 64, 67, 0.3), 0px 1px 3px 1px rgba(60, 64, 67, 0.15);\n",
              "      fill: #174EA6;\n",
              "    }\n",
              "\n",
              "    [theme=dark] .colab-df-convert {\n",
              "      background-color: #3B4455;\n",
              "      fill: #D2E3FC;\n",
              "    }\n",
              "\n",
              "    [theme=dark] .colab-df-convert:hover {\n",
              "      background-color: #434B5C;\n",
              "      box-shadow: 0px 1px 3px 1px rgba(0, 0, 0, 0.15);\n",
              "      filter: drop-shadow(0px 1px 2px rgba(0, 0, 0, 0.3));\n",
              "      fill: #FFFFFF;\n",
              "    }\n",
              "  </style>\n",
              "\n",
              "      <script>\n",
              "        const buttonEl =\n",
              "          document.querySelector('#df-ead4f33b-7cb5-4ec5-95d9-869581c5e51d button.colab-df-convert');\n",
              "        buttonEl.style.display =\n",
              "          google.colab.kernel.accessAllowed ? 'block' : 'none';\n",
              "\n",
              "        async function convertToInteractive(key) {\n",
              "          const element = document.querySelector('#df-ead4f33b-7cb5-4ec5-95d9-869581c5e51d');\n",
              "          const dataTable =\n",
              "            await google.colab.kernel.invokeFunction('convertToInteractive',\n",
              "                                                     [key], {});\n",
              "          if (!dataTable) return;\n",
              "\n",
              "          const docLinkHtml = 'Like what you see? Visit the ' +\n",
              "            '<a target=\"_blank\" href=https://colab.research.google.com/notebooks/data_table.ipynb>data table notebook</a>'\n",
              "            + ' to learn more about interactive tables.';\n",
              "          element.innerHTML = '';\n",
              "          dataTable['output_type'] = 'display_data';\n",
              "          await google.colab.output.renderOutput(dataTable, element);\n",
              "          const docLink = document.createElement('div');\n",
              "          docLink.innerHTML = docLinkHtml;\n",
              "          element.appendChild(docLink);\n",
              "        }\n",
              "      </script>\n",
              "    </div>\n",
              "  </div>\n",
              "  "
            ]
          },
          "metadata": {}
        },
        {
          "output_type": "display_data",
          "data": {
            "text/plain": [
              "   Quadrant 1  Quadrant 2  Quadrant 3  Quadrant 4\n",
              "0    0.754054    0.498525    0.643229    0.560345"
            ],
            "text/html": [
              "\n",
              "  <div id=\"df-13422cb2-1c25-4cf6-9cfa-8b7e3c63e61d\">\n",
              "    <div class=\"colab-df-container\">\n",
              "      <div>\n",
              "<style scoped>\n",
              "    .dataframe tbody tr th:only-of-type {\n",
              "        vertical-align: middle;\n",
              "    }\n",
              "\n",
              "    .dataframe tbody tr th {\n",
              "        vertical-align: top;\n",
              "    }\n",
              "\n",
              "    .dataframe thead th {\n",
              "        text-align: right;\n",
              "    }\n",
              "</style>\n",
              "<table border=\"1\" class=\"dataframe\">\n",
              "  <thead>\n",
              "    <tr style=\"text-align: right;\">\n",
              "      <th></th>\n",
              "      <th>Quadrant 1</th>\n",
              "      <th>Quadrant 2</th>\n",
              "      <th>Quadrant 3</th>\n",
              "      <th>Quadrant 4</th>\n",
              "    </tr>\n",
              "  </thead>\n",
              "  <tbody>\n",
              "    <tr>\n",
              "      <th>0</th>\n",
              "      <td>0.754054</td>\n",
              "      <td>0.498525</td>\n",
              "      <td>0.643229</td>\n",
              "      <td>0.560345</td>\n",
              "    </tr>\n",
              "  </tbody>\n",
              "</table>\n",
              "</div>\n",
              "      <button class=\"colab-df-convert\" onclick=\"convertToInteractive('df-13422cb2-1c25-4cf6-9cfa-8b7e3c63e61d')\"\n",
              "              title=\"Convert this dataframe to an interactive table.\"\n",
              "              style=\"display:none;\">\n",
              "        \n",
              "  <svg xmlns=\"http://www.w3.org/2000/svg\" height=\"24px\"viewBox=\"0 0 24 24\"\n",
              "       width=\"24px\">\n",
              "    <path d=\"M0 0h24v24H0V0z\" fill=\"none\"/>\n",
              "    <path d=\"M18.56 5.44l.94 2.06.94-2.06 2.06-.94-2.06-.94-.94-2.06-.94 2.06-2.06.94zm-11 1L8.5 8.5l.94-2.06 2.06-.94-2.06-.94L8.5 2.5l-.94 2.06-2.06.94zm10 10l.94 2.06.94-2.06 2.06-.94-2.06-.94-.94-2.06-.94 2.06-2.06.94z\"/><path d=\"M17.41 7.96l-1.37-1.37c-.4-.4-.92-.59-1.43-.59-.52 0-1.04.2-1.43.59L10.3 9.45l-7.72 7.72c-.78.78-.78 2.05 0 2.83L4 21.41c.39.39.9.59 1.41.59.51 0 1.02-.2 1.41-.59l7.78-7.78 2.81-2.81c.8-.78.8-2.07 0-2.86zM5.41 20L4 18.59l7.72-7.72 1.47 1.35L5.41 20z\"/>\n",
              "  </svg>\n",
              "      </button>\n",
              "      \n",
              "  <style>\n",
              "    .colab-df-container {\n",
              "      display:flex;\n",
              "      flex-wrap:wrap;\n",
              "      gap: 12px;\n",
              "    }\n",
              "\n",
              "    .colab-df-convert {\n",
              "      background-color: #E8F0FE;\n",
              "      border: none;\n",
              "      border-radius: 50%;\n",
              "      cursor: pointer;\n",
              "      display: none;\n",
              "      fill: #1967D2;\n",
              "      height: 32px;\n",
              "      padding: 0 0 0 0;\n",
              "      width: 32px;\n",
              "    }\n",
              "\n",
              "    .colab-df-convert:hover {\n",
              "      background-color: #E2EBFA;\n",
              "      box-shadow: 0px 1px 2px rgba(60, 64, 67, 0.3), 0px 1px 3px 1px rgba(60, 64, 67, 0.15);\n",
              "      fill: #174EA6;\n",
              "    }\n",
              "\n",
              "    [theme=dark] .colab-df-convert {\n",
              "      background-color: #3B4455;\n",
              "      fill: #D2E3FC;\n",
              "    }\n",
              "\n",
              "    [theme=dark] .colab-df-convert:hover {\n",
              "      background-color: #434B5C;\n",
              "      box-shadow: 0px 1px 3px 1px rgba(0, 0, 0, 0.15);\n",
              "      filter: drop-shadow(0px 1px 2px rgba(0, 0, 0, 0.3));\n",
              "      fill: #FFFFFF;\n",
              "    }\n",
              "  </style>\n",
              "\n",
              "      <script>\n",
              "        const buttonEl =\n",
              "          document.querySelector('#df-13422cb2-1c25-4cf6-9cfa-8b7e3c63e61d button.colab-df-convert');\n",
              "        buttonEl.style.display =\n",
              "          google.colab.kernel.accessAllowed ? 'block' : 'none';\n",
              "\n",
              "        async function convertToInteractive(key) {\n",
              "          const element = document.querySelector('#df-13422cb2-1c25-4cf6-9cfa-8b7e3c63e61d');\n",
              "          const dataTable =\n",
              "            await google.colab.kernel.invokeFunction('convertToInteractive',\n",
              "                                                     [key], {});\n",
              "          if (!dataTable) return;\n",
              "\n",
              "          const docLinkHtml = 'Like what you see? Visit the ' +\n",
              "            '<a target=\"_blank\" href=https://colab.research.google.com/notebooks/data_table.ipynb>data table notebook</a>'\n",
              "            + ' to learn more about interactive tables.';\n",
              "          element.innerHTML = '';\n",
              "          dataTable['output_type'] = 'display_data';\n",
              "          await google.colab.output.renderOutput(dataTable, element);\n",
              "          const docLink = document.createElement('div');\n",
              "          docLink.innerHTML = docLinkHtml;\n",
              "          element.appendChild(docLink);\n",
              "        }\n",
              "      </script>\n",
              "    </div>\n",
              "  </div>\n",
              "  "
            ]
          },
          "metadata": {}
        }
      ]
    },
    {
      "cell_type": "code",
      "source": [
        "def normalize_mfccs(mfcc):\n",
        "    mean = torch.tensor(13.6983, dtype=torch.float)\n",
        "    std = torch.tensor(53.4555, dtype=torch.float)\n",
        "    return (mfcc - mean) / std\n",
        "\n",
        "def pipeline(song):\n",
        "  music, sr = librosa.load(song, mono=True, sr=44100)\n",
        "  music_length = music.shape[0] // sr\n",
        "  frame_duration = 1\n",
        "  frame_length = int(frame_duration * sr)\n",
        "  #hop_length = int(10 * sr)\n",
        "  music = librosa.util.frame(music, frame_length=frame_length, hop_length=frame_length, axis=0)\n",
        "  model_arousal = EmotionModel()\n",
        "  model_arousal.load_state_dict(torch.load('/content/gdrive/MyDrive/CNN_one_model/arousal_weights8/best_model.pt', map_location=torch.device('cpu')))\n",
        "  model_valence = EmotionModel()\n",
        "  model_valence.load_state_dict(torch.load('/content/gdrive/MyDrive/CNN_one_model/valence_weights8/best_model.pt', map_location=torch.device('cpu')))\n",
        "  model_arousal = model_arousal.to(device)\n",
        "  model_valence = model_valence.to(device)\n",
        "  model_arousal.eval()\n",
        "  model_valence.eval()\n",
        "  valence = []\n",
        "  arousal = []\n",
        "  for elem in music:\n",
        "    mfcc = get_mfcc(elem, sr)\n",
        "    mfcc = torch.tensor(mfcc, dtype=torch.float)\n",
        "    mfcc = normalize_mfccs(mfcc)\n",
        "    mfcc = torch.unsqueeze(mfcc, 0)\n",
        "    valence_sec = model_valence(mfcc.to(device)).squeeze()\n",
        "    arousal_sec = model_arousal(mfcc.to(device)).squeeze()\n",
        "    valence.append(valence_sec.cpu().detach().numpy())\n",
        "    arousal.append(arousal_sec.cpu().detach().numpy())\n",
        "  return np.mean(valence), np.mean(arousal)"
      ],
      "metadata": {
        "id": "Z1HE0BU-_ehU"
      },
      "execution_count": 108,
      "outputs": []
    },
    {
      "cell_type": "code",
      "execution_count": 106,
      "metadata": {
        "id": "9jT8_zGBoF9i"
      },
      "outputs": [],
      "source": [
        "def get_quadrants(arousal, valence):\n",
        "        mid_val = 0.5\n",
        "        if valence > mid_val:\n",
        "            return 'Q4' if arousal < mid_val else 'Q1'\n",
        "        else:\n",
        "            return 'Q3' if arousal < mid_val else 'Q2'\n",
        "\n",
        "\n",
        "def get_quadrants_res():\n",
        "      test = pd.read_excel('/content/gdrive/MyDrive/CNN_one_model/MRE/MER-Audio-dataset.xls')\n",
        "      dict_quadrants = {'Q1': [], 'Q2': [], 'Q3': [], 'Q4': []}\n",
        "      for song in os.listdir('/content/gdrive/MyDrive/CNN_one_model/MRE/Corpus-Audio-162'):\n",
        "        valence, arousal = pipeline(f'/content/gdrive/MyDrive/CNN_one_model/MRE/Corpus-Audio-162/{song}')\n",
        "        song_code = song.split('-')[0] if '-' in song else song.split('.')[0]\n",
        "        quadrant = test[test['Song Code'] == song_code]['Quadrant'].values\n",
        "        if len(quadrant) == 0:\n",
        "            continue\n",
        "        pred_val = get_quadrants(arousal, valence)\n",
        "        dict_quadrants[quadrant[0]].append(1) if pred_val == quadrant else dict_quadrants[quadrant[0]].append(0)\n",
        "      print(f\"Quadrant 1: {np.mean(dict_quadrants['Q1'])}\")\n",
        "      print(f\"Quadrant 2: {np.mean(dict_quadrants['Q2'])}\")\n",
        "      print(f\"Quadrant 3: {np.mean(dict_quadrants['Q3'])}\")\n",
        "      print(f\"Quadrant 4: {np.mean(dict_quadrants['Q4'])}\")\n",
        "\n",
        "\n"
      ]
    },
    {
      "cell_type": "code",
      "source": [
        "get_quadrants_res()"
      ],
      "metadata": {
        "colab": {
          "base_uri": "https://localhost:8080/"
        },
        "id": "KOuptNJdVZeb",
        "outputId": "06d1a009-a430-4abd-b1b2-98a6e919ddde"
      },
      "execution_count": 70,
      "outputs": [
        {
          "output_type": "stream",
          "name": "stdout",
          "text": [
            "Quadrant 1: 0.5192307692307693\n",
            "Quadrant 2: 0.2222222222222222\n",
            "Quadrant 3: 0.6333333333333333\n",
            "Quadrant 4: 0.35294117647058826\n"
          ]
        }
      ]
    }
  ],
  "metadata": {
    "colab": {
      "machine_shape": "hm",
      "provenance": []
    },
    "kernelspec": {
      "display_name": "Python 3",
      "name": "python3"
    },
    "language_info": {
      "name": "python"
    }
  },
  "nbformat": 4,
  "nbformat_minor": 0
}